{
 "cells": [
  {
   "cell_type": "markdown",
   "metadata": {
    "id": "PP2K-SdGJeSS"
   },
   "source": [
    "#Evidencia 2- Fase 3 LLM\n",
    "Equipo 6:<br>\n",
    "Ingrid García Hernández, A01754475<br>\n",
    "Abigail Donají Chavez Rubio, A01747423<br>\n",
    "Noh Ah Kim Kwon, A01747512<br>\n",
    "Eduardo Alfredo Ramírez Muñoz, A01754917"
   ]
  },
  {
   "cell_type": "code",
   "execution_count": null,
   "metadata": {
    "id": "GX58MRRGHzeM"
   },
   "outputs": [],
   "source": [
    "from transformers import pipeline"
   ]
  },
  {
   "cell_type": "code",
   "execution_count": null,
   "metadata": {
    "colab": {
     "base_uri": "https://localhost:8080/",
     "height": 105,
     "referenced_widgets": [
      "44ee9b6b99f14c5787d9376f8150b2b2",
      "c9f481424dbf4cf6931f4a6342d50554",
      "225f579f782c4eb0be381c18e11a6b1e",
      "8d06b8b03bf943efb75b065d03fd2fbf",
      "1cf1ea9c08ad4e8b8c55e78b6f21f17e",
      "83bb6d398df0474a8afebf138f44adc7",
      "7fd8c6c756c647f6ab3141df7812d71c",
      "6d6d3beba907413cbcdadc9c320a83bc",
      "276eefe6835a4456adf7e5c8cd4d37f2",
      "4ff2d55a64de49a39d2e01e17b484201",
      "e20fe5647304442daa5b7b95d473de75"
     ]
    },
    "id": "e7eAJQSbJc83",
    "outputId": "60532d72-bb6b-4534-c147-70dc7a4d1463"
   },
   "outputs": [
    {
     "name": "stderr",
     "output_type": "stream",
     "text": [
      "The cache for model files in Transformers v4.22.0 has been updated. Migrating your old cache. This is a one-time only operation. You can interrupt this and resume the migration later on by calling `transformers.utils.move_cache()`.\n"
     ]
    },
    {
     "data": {
      "application/vnd.jupyter.widget-view+json": {
       "model_id": "44ee9b6b99f14c5787d9376f8150b2b2",
       "version_major": 2,
       "version_minor": 0
      },
      "text/plain": [
       "0it [00:00, ?it/s]"
      ]
     },
     "metadata": {},
     "output_type": "display_data"
    },
    {
     "name": "stdout",
     "output_type": "stream",
     "text": [
      "Drive already mounted at /content/drive; to attempt to forcibly remount, call drive.mount(\"/content/drive\", force_remount=True).\n"
     ]
    }
   ],
   "source": [
    "# Librerías\n",
    "import pandas as pd\n",
    "import torch\n",
    "from transformers import AutoTokenizer, AutoModelForSequenceClassification\n",
    "from sklearn.metrics import roc_auc_score, classification_report\n",
    "from sklearn.preprocessing import LabelBinarizer\n",
    "\n",
    "# Cargar dataset\n",
    "from google.colab import drive\n",
    "drive.mount('/content/drive')\n",
    "ruta = '/content/data_test_fold2 - anorexia(in).csv'\n",
    "\n",
    "df = pd.read_csv(ruta)\n",
    "\n",
    "clase = df.iloc[:, 3]\n",
    "clases = clase[:250]\n",
    "\n",
    "tweets = df.tweet_text\n",
    "tweets = tweets [:250] #Texto\n"
   ]
  },
  {
   "cell_type": "code",
   "execution_count": null,
   "metadata": {
    "id": "MRE1gCU5k4jp"
   },
   "outputs": [],
   "source": []
  },
  {
   "cell_type": "code",
   "execution_count": null,
   "metadata": {
    "id": "1dFxaAdCLaSM"
   },
   "outputs": [],
   "source": [
    "from transformers import pipeline\n",
    "from sklearn.metrics import roc_auc_score, confusion_matrix, roc_curve\n",
    "import matplotlib.pyplot as plt\n"
   ]
  },
  {
   "cell_type": "code",
   "execution_count": null,
   "metadata": {
    "colab": {
     "base_uri": "https://localhost:8080/"
    },
    "id": "ZaDhzWr5Kvd0",
    "outputId": "0b8c2f17-07e1-4371-e8bb-545eca3c8787"
   },
   "outputs": [
    {
     "name": "stderr",
     "output_type": "stream",
     "text": [
      "Some weights of the model checkpoint at joeddav/xlm-roberta-large-xnli were not used when initializing XLMRobertaForSequenceClassification: ['roberta.pooler.dense.bias', 'roberta.pooler.dense.weight']\n",
      "- This IS expected if you are initializing XLMRobertaForSequenceClassification from the checkpoint of a model trained on another task or with another architecture (e.g. initializing a BertForSequenceClassification model from a BertForPreTraining model).\n",
      "- This IS NOT expected if you are initializing XLMRobertaForSequenceClassification from the checkpoint of a model that you expect to be exactly identical (initializing a BertForSequenceClassification model from a BertForSequenceClassification model).\n",
      "Device set to use cpu\n"
     ]
    },
    {
     "name": "stdout",
     "output_type": "stream",
     "text": [
      "Matriz de confusión:\n",
      " [[ 39  95]\n",
      " [  8 108]]\n"
     ]
    }
   ],
   "source": [
    "classifier = pipeline(\"zero-shot-classification\", model=\"joeddav/xlm-roberta-large-xnli\")\n",
    "\n",
    "prob_anorexia = []\n",
    "\n",
    "for tweet in tweets:\n",
    "  result = classifier(tweet, candidate_labels=[\"anorexia\", \"control\"])\n",
    "  prob = dict(zip(result['labels'], result['scores']))[\"anorexia\"]\n",
    "  prob_anorexia.append(prob)\n",
    "\n",
    "labels_pred = ['anorexia' if p >= 0.5 else 'control' for p in prob_anorexia]\n",
    "\n"
   ]
  },
  {
   "cell_type": "code",
   "execution_count": null,
   "metadata": {
    "id": "MDT0gheAOela"
   },
   "outputs": [],
   "source": [
    "# Librerías\n",
    "import matplotlib.pyplot as plt\n",
    "import seaborn as sns\n",
    "from sklearn import metrics\n",
    "\n",
    "# Obtener la confusión de matriz\n",
    "from sklearn.metrics import confusion_matrix"
   ]
  },
  {
   "cell_type": "code",
   "execution_count": null,
   "metadata": {
    "colab": {
     "base_uri": "https://localhost:8080/",
     "height": 553
    },
    "id": "i51vaq8xLIHI",
    "outputId": "46484134-d120-49d0-9eb0-639829372648"
   },
   "outputs": [
    {
     "name": "stdout",
     "output_type": "stream",
     "text": [
      "\n",
      "Matriz de confusión:\n",
      "[[108   8]\n",
      " [ 95  39]]\n"
     ]
    },
    {
     "data": {
      "image/png": "[encoded data removed]",
      "text/plain": [
       "<Figure size 500x400 with 2 Axes>"
      ]
     },
     "metadata": {},
     "output_type": "display_data"
    },
    {
     "name": "stdout",
     "output_type": "stream",
     "text": [
      "Accuracy: 0.588\n",
      "Precision: 0.8297872340425532\n",
      "Recall: 0.291044776119403\n",
      "AUC: 0.6110396294390119\n"
     ]
    }
   ],
   "source": [
    "y_true = df['class'].map({'control': 0, 'anorexia': 1})\n",
    "#y_pred = df['pred_clase'].map({'control': 0, 'anorexia': 1})\n",
    "# Convert labels_pred to numerical labels (0 for control, 1 for anorexia)\n",
    "labels_pred_numeric = [1 if label == 'anorexia' else 0 for label in labels_pred]\n",
    "\n",
    "cm = confusion_matrix(y_true[:250], labels_pred_numeric, labels=[0, 1])\n",
    "print(\"\\nMatriz de confusión:\")\n",
    "print(cm)\n",
    "\n",
    "plt.figure(figsize=(5, 4))\n",
    "sns.heatmap(cm, annot=True, fmt='d', cmap='Purples')\n",
    "plt.title('Confusion Matrix')\n",
    "plt.ylabel('True label')\n",
    "plt.xlabel('Predicted label')\n",
    "plt.show()\n",
    "\n",
    "print(\"Accuracy:\",metrics.accuracy_score(clases, labels_pred))\n",
    "print(\"Precision:\",metrics.precision_score(clases, labels_pred, pos_label='anorexia'))\n",
    "print(\"Recall:\",metrics.recall_score(clases, labels_pred, pos_label='anorexia'))\n",
    "\n",
    "# Se convierten las etiquetas en valores binarios\n",
    "y_true_bin = [1 if label == 'anorexia' else 0 for label in clases]\n",
    "y_pred_bin = [1 if label == 'anorexia' else 0 for label in labels_pred]\n",
    "# Cálculo de AUC\n",
    "auc = roc_auc_score(y_true_bin, y_pred_bin)\n",
    "print(\"AUC:\", auc)"
   ]
  },
  {
   "cell_type": "code",
   "execution_count": null,
   "metadata": {
    "colab": {
     "base_uri": "https://localhost:8080/",
     "height": 490
    },
    "id": "__USzYONOukz",
    "outputId": "4d212ff8-ad03-49a0-d4fa-fa149c31bcf4"
   },
   "outputs": [
    {
     "name": "stdout",
     "output_type": "stream",
     "text": [
      "AUC-ROC: 0.6762738033968091\n"
     ]
    },
    {
     "data": {
      "image/png": "[encoded data removed]",
      "text/plain": [
       "<Figure size 640x480 with 1 Axes>"
      ]
     },
     "metadata": {},
     "output_type": "display_data"
    }
   ],
   "source": [
    "from transformers import pipeline\n",
    "from sklearn.metrics import roc_auc_score, confusion_matrix, roc_curve\n",
    "import matplotlib.pyplot as plt\n",
    "\n",
    "auc = roc_auc_score(y_true_bin, prob_anorexia)\n",
    "print(\"AUC-ROC:\", auc)\n",
    "\n",
    "# Curva ROC\n",
    "fpr, tpr, thresholds = roc_curve(y_true_bin, prob_anorexia)\n",
    "\n",
    "# Graficar ROC\n",
    "plt.plot(fpr, tpr, label=f\"AUC = {auc:.2f}\")\n",
    "plt.plot([0, 1], [0, 1], linestyle='--')\n",
    "plt.xlabel(\"False Positive Rate\")\n",
    "plt.ylabel(\"True Positive Rate\")\n",
    "plt.title(\"Curva ROC\")\n",
    "plt.legend()\n",
    "plt.show()"
   ]
  }
 ],
 "metadata": {
  "colab": {
   "provenance": []
  },
  "kernelspec": {
   "display_name": "Python 3",
   "name": "python3"
  },
  "language_info": {
   "name": "python"
  }
 },
 "nbformat": 4,
 "nbformat_minor": 0
}
